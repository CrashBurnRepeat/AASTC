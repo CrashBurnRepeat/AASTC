{
 "cells": [
  {
   "cell_type": "markdown",
   "metadata": {
    "slideshow": {
     "slide_type": "slide"
    }
   },
   "source": [
    "# RANSAC-ing and reverse engineering point cloud data \n",
    "### Ann Arbor Scientific and Technical Computing\n",
    "### August 27, 2020 \n",
    "\n",
    "<img src=\"img/ransac_example.png\" style=\"height:100%; width:100%\"></img>"
   ]
  },
  {
   "cell_type": "markdown",
   "metadata": {
    "slideshow": {
     "slide_type": "slide"
    }
   },
   "source": [
    "# What is RANSAC?\n",
    "<img src=\"img/surface_normals.jpg\" align=\"right\" style=\"height:500px\"></img>\n",
    "<br clear=\"left\">\n",
    "RANSAC (or, Random Sample Consensus) is a way of fitting basic geometric shapes like planes, spheres, cones, and torii (primitive shapes) to point cloud data. Point cloud data is a series of (x,y,z) coordinates that describe some object or objects. For instance, the sphere on the right shows what we recognize as a sphere, but to a computer would be just a collection of coordinates with no higher meaning. RANSAC also relies on the surface normals, also seen in the graph pointing straight out of the sphere. The normals help the algorithm distinguish between primitives. For instance, by selecting three points you could define either a sphere or a plane, but the normals would determine which underlying shape is more likely.\n",
    "\n",
    "The random part of the algorithm has to do with how RANSAC determines which primitives best model the point cloud. The process has to be randomized as trying every combination over ever subset of points would be prohibitively slow and computationally expensive. This is also why consensus is part of the name; the algorithm scores the candidate fits and tries to select those most agreed on by the random samples.\n"
   ]
  },
  {
   "cell_type": "markdown",
   "metadata": {
    "slideshow": {
     "slide_type": "slide"
    }
   },
   "source": [
    "# Why do we need it?\n",
    "\n",
    "<div class=\"row\", style=\"display:flex\">\n",
    "    <div class=\"column\" style=\"flex:33%\">\n",
    "        <img src=\"img/pmi_cad.gif\" align=\"top\" style=\"height:200px\"></img>\n",
    "        <br clear=\"top\">\n",
    "        <h3 style=\"text-align:center\">Pulling out contextual information</h3>\n",
    "    </div>\n",
    "    <div class=\"column\" style=\"width:33%\">\n",
    "        <img src=\"img/lidar-cloud.gif\" align=\"top\" style=\"height:200px\"></img>\n",
    "        <br clear=\"top\">\n",
    "        <h3 style=\"text-align:center\">Aiding computer vision</h3>\n",
    "    </div>\n",
    "    <div class=\"column\" style=\"width:33%\">\n",
    "        <img src=\"img/noisy_point_cloud.gif\" align=\"top\" style=\"height:200px\"></img>\n",
    "        <br clear=\"top\">\n",
    "        <h3 style=\"text-align:center\">De-noising and refining computer graphics</h3>\n",
    "    </div>\n",
    "</div>    \n"
   ]
  },
  {
   "cell_type": "markdown",
   "metadata": {
    "slideshow": {
     "slide_type": "slide"
    }
   },
   "source": [
    "# How does it work?\n",
    "\n",
    "<img src=\"img/octree_rabbit.jpeg\" align=\"right\" hspace=\"10px\" vspace=\"10px\"></img>\n",
    "<br clear=\"left\">\n",
    "<ul>\n",
    "    <li>Build an octree partitioning over the space of the scanned data (see rabbit on right)</li>\n",
    "    <li>From within those cells, do a random sampling</li>\n",
    "    <li>Do the sampled points fit a defined surface type?</li>\n",
    "    <li>Do their normals align as well?</li>\n",
    "    <li>Score the fits for each primitive, as well as a measure of fit likelihood</li>\n",
    "    <li>Move up the octree (include larger and larger cells) until a clear winner emerges</li>\n",
    "    <li>Once a winning primitive is selected, find all points that would be included and refine the shape parameters</li>\n",
    "    <li>Remove the points on this primitive from the search space and continue with other candidate primitives</li>\n",
    "</ul>\n",
    "\n",
    "With this high level understanding of how the algorithm works. Let's see it in practice using [RANSAC.jl and the exellent examples](https://csertegt3.github.io/RANSAC.jl/stable/example/) provided by the author."
   ]
  },
  {
   "cell_type": "code",
   "execution_count": 1,
   "metadata": {},
   "outputs": [],
   "source": [
    "using RANSAC\n",
    "using FileIO \n",
    "using MeshIO"
   ]
  },
  {
   "cell_type": "code",
   "execution_count": 2,
   "metadata": {},
   "outputs": [],
   "source": [
    "# Load points from file\n",
    "m = load(\"data/fandisk_input.obj\");\n",
    "# Load points into RANSAC data type\n",
    "pc = RANSACCloud(m.position, m.normals, 8);"
   ]
  },
  {
   "cell_type": "markdown",
   "metadata": {},
   "source": [
    "<img src=\"img/surface_mesh.png\" style=\"height:650px\"></img>"
   ]
  },
  {
   "cell_type": "code",
   "execution_count": 3,
   "metadata": {},
   "outputs": [
    {
     "data": {
      "text/plain": [
       "(iteration = (drawN = 3, minsubsetN = 15, prob_det = 0.9, shape_types = UnionAll[FittedPlane, FittedCone, FittedCylinder, FittedSphere], τ = 900, itermax = 1000, extract_s = :nofminset, terminate_s = :nofminset), common = (collin_threshold = 0.2, parallelthrdeg = 1.0), plane = (ϵ = 0.3, α = 0.08726646259971647), cone = (ϵ = 0.3, α = 0.08726646259971647, minconeopang = 0.03490658503988659), cylinder = (ϵ = 0.3, α = 0.08726646259971647), sphere = (ϵ = 0.3, α = 0.08726646259971647, sphere_par = 0.02))"
      ]
     },
     "execution_count": 3,
     "metadata": {},
     "output_type": "execute_result"
    }
   ],
   "source": [
    "# Generate default parameters\n",
    "p = ransacparameters()"
   ]
  },
  {
   "cell_type": "code",
   "execution_count": 4,
   "metadata": {},
   "outputs": [
    {
     "data": {
      "text/plain": [
       "(iteration = (drawN = 3, minsubsetN = 15, prob_det = 0.9, shape_types = UnionAll[FittedPlane, FittedCone, FittedCylinder, FittedSphere], τ = 50, itermax = 100000, extract_s = :nofminset, terminate_s = :nofminset), common = (collin_threshold = 0.2, parallelthrdeg = 1.0), plane = (ϵ = 0.05, α = 0.17453292519943295), cone = (ϵ = 0.05, α = 0.17453292519943295, minconeopang = 0.03490658503988659), cylinder = (ϵ = 0.05, α = 0.17453292519943295), sphere = (ϵ = 0.05, α = 0.17453292519943295, sphere_par = 0.02))"
      ]
     },
     "execution_count": 4,
     "metadata": {},
     "output_type": "execute_result"
    }
   ],
   "source": [
    "# Tweak and update parameters\n",
    "newparams = (ϵ=0.05, α=deg2rad(10),)\n",
    "\n",
    "p = ransacparameters(p, sphere=newparams, cone=newparams, plane=newparams, cylinder=newparams, iteration=(τ=50, itermax=100_000,))"
   ]
  },
  {
   "cell_type": "code",
   "execution_count": 5,
   "metadata": {},
   "outputs": [],
   "source": [
    "# run the RANSAC algorithm\n",
    "extr, _ = ransac(pc, p, true, reset_rand=true);"
   ]
  },
  {
   "cell_type": "code",
   "execution_count": 6,
   "metadata": {},
   "outputs": [],
   "source": [
    "using RANSACVisualizer"
   ]
  },
  {
   "cell_type": "code",
   "execution_count": 7,
   "metadata": {},
   "outputs": [],
   "source": [
    "display(showshapes(pc, extr; show_axis = false, markersize=75)); #opens external window"
   ]
  },
  {
   "cell_type": "markdown",
   "metadata": {},
   "source": [
    "<img src=\"img/results_by_surface.png\" style=\"width:650px\"></img>"
   ]
  },
  {
   "cell_type": "code",
   "execution_count": 8,
   "metadata": {},
   "outputs": [],
   "source": [
    "display(showbytype(pc, extr; show_axis = false, markersize=75)); #opens external window"
   ]
  },
  {
   "cell_type": "markdown",
   "metadata": {},
   "source": [
    "<img src=\"img/results_by_shape.png\" style=\"width:650px\"></img>"
   ]
  },
  {
   "cell_type": "markdown",
   "metadata": {},
   "source": [
    "### Sources\n",
    "- [Efficient RANSAC for Point-Cloud Shape Detection](https://cg.cs.uni-bonn.de/aigaion2root/attachments/schnabel-2007-efficient.pdf)\n",
    "- [RANSAC.jl](https://github.com/cserteGT3/RANSAC.jl)\n",
    "- [RANSAC JuliaCon2020 presentation](https://www.youtube.com/watch?v=EcuqNhmfovM)"
   ]
  },
  {
   "cell_type": "code",
   "execution_count": null,
   "metadata": {},
   "outputs": [],
   "source": []
  }
 ],
 "metadata": {
  "@webio": {
   "lastCommId": null,
   "lastKernelId": null
  },
  "kernelspec": {
   "display_name": "Julia 1.5.1",
   "language": "julia",
   "name": "julia-1.5"
  },
  "language_info": {
   "file_extension": ".jl",
   "mimetype": "application/julia",
   "name": "julia",
   "version": "1.5.1"
  }
 },
 "nbformat": 4,
 "nbformat_minor": 2
}
