{
 "cells": [
  {
   "attachments": {},
   "cell_type": "markdown",
   "metadata": {},
   "source": [
    "# Inspirational Randomness: Creating Quotes with Markov Chains\n",
    "#### Ann Arbor Scientific and Technical Computing, October 29th 2020\n",
    "#### Presented by David Perner\n",
    "<img src=\"img/agByQ.png\"></img>"
   ]
  },
  {
   "attachments": {},
   "cell_type": "markdown",
   "metadata": {},
   "source": [
    "# What are Markov chains?\n",
    "\n",
    "Markov chains are a way of modeling probabilistic, or heuristic, processes. They do this by enumerating the possible states of the system and then setting the transitions between them, each with a certain probability that it will occur. For instance, below is a Markov chain for what they weather might be like today.\n",
    "<img src=\"img/XP9in.jpg\"></img>\n",
    "So if we're checking once a day, if it's rainy now, there's about a 60% chance it'll be rainy tomorrow too, although also a 20% chance it'll be sunny. And if it is sunny tomorrow, there's a 10% chance it'll be rainy the day after that, and so on.\n",
    "\n",
    "It's also worth noting that Markov chains can be continuous as well as discrete, but that's beyond what we need to know for the moment."
   ]
  },
  {
   "cell_type": "markdown",
   "metadata": {},
   "source": [
    "# Where are they useful?\n",
    "\n",
    "There are a number of circumstances where Markov chains find applications. Some of the questions they can help to answer include:\n",
    "\n",
    "- The evolution of a chemical reactions, as different chemicals species transition between themselves over time\n",
    "- The odds of a family becoming rich or impoverished\n",
    "- If a cell tower will be overloaded based on the odds of people entering or leaving the area\n",
    "\n",
    "<img src=\"img/MarkovChain1.png\" style=\"height:300px\"></img>\n",
    "\n",
    "Also, while it's not a focus here, Markov chains can also be run thousands of times (Monte Carlo) to generate overall odds of complex outcomes, instead of just single state transitions.\n",
    "<img src=\"img/ChutesAndLadders-sim.gif\"></img>"
   ]
  },
  {
   "cell_type": "markdown",
   "metadata": {},
   "source": [
    "# How does this translate into generating text?\n",
    "\n",
    "We can think about a sentence as a series of state transitions, from a previous word to the next. If we have enough text, we can quantify how likely certain words are to follow others and construct a Markov chain from that.\n",
    "\n",
    "<img src=\"img/text-gen.png\"></img>\n",
    "\n",
    "For this presentation, we'll be using this [quote dataset](https://www.kaggle.com/manann/quotes-500k) from Kaggle. It's not perfect, in that there are occasional typos and not all quotes are in English, but it's more than enough to play around with."
   ]
  },
  {
   "cell_type": "code",
   "execution_count": 1,
   "metadata": {},
   "outputs": [],
   "source": [
    "using CSV\n",
    "using StatsBase"
   ]
  },
  {
   "cell_type": "code",
   "execution_count": 2,
   "metadata": {},
   "outputs": [
    {
     "data": {
      "text/plain": [
       "499709-element CSV.File{false}:\n",
       " CSV.Row: (quote = \"I'm selfish, impatient and a little insecure. I make mistakes, I am out of control and at times hard to handle. But if you can't handle me at my worst, then you sure as hell don't deserve me at my best.\", author = \"Marilyn Monroe\", category = \"attributed-no-source, best, life, love, mistakes, out-of-control, truth, worst\")\n",
       " CSV.Row: (quote = \"You've gotta dance like there's nobody watching,Love like you'll never be hurt,Sing like there's nobody listening,And live like it's heaven on earth.\", author = \"William W. Purkey\", category = \"dance, heaven, hurt, inspirational, life, love, sing\")\n",
       " CSV.Row: (quote = \"You know you're in love when you can't fall asleep because reality is finally better than your dreams.\", author = \"Dr. Seuss\", category = \"attributed-no-source, dreams, love, reality, sleep\")\n",
       " CSV.Row: (quote = \"A friend is someone who knows all about you and still loves you.\", author = \"Elbert Hubbard\", category = \"friend, friendship, knowledge, love\")\n",
       " CSV.Row: (quote = \"Darkness cannot drive out darkness: only light can do that. Hate cannot drive out hate: only love can do that.\", author = \"Martin Luther King Jr., A Testament of Hope: The Essential Writings and Speeches\", category = \"darkness, drive-out, hate, inspirational, light, love, peace\")\n",
       " CSV.Row: (quote = \"We accept the love we think we deserve.\", author = \"Stephen Chbosky, The Perks of Being a Wallflower\", category = \"inspirational, love\")\n",
       " CSV.Row: (quote = \"Only once in your life, I truly believe, you find someone who can completely turn your world around. You tell them things that you’ve never shared with another soul and they absorb everything you say and actually want to hear more. You share hopes for the future, dreams that will never come true, goals that were never achieved and the many disappointments life has thrown at you. When something wonderful happens, you can’t wait to tell them about it, knowing they will share in your excitement. They are not embarrassed to cry with you when you are hurting or laugh with you when you make a fool of yourself. Never do they hurt your feelings or make you feel like you are not good enough, but rather they build you up and show you the things about yourself that make you special and even beautiful. There is never any pressure, jealousy or competition but only a quiet calmness when they are around. You can be yourself and not worry about what they will think of you because they love you for who you are. The things that seem insignificant to most people such as a note, song or walk become invaluable treasures kept safe in your heart to cherish forever. Memories of your childhood come back and are so clear and vivid it’s like being young again. Colours seem brighter and more brilliant. Laughter seems part of daily life where before it was infrequent or didn’t exist at all. A phone call or two during the day helps to get you through a long day’s work and always brings a smile to your face. In their presence, there’s no need for continuous conversation, but you find you’re quite content in just having them nearby. Things that never interested you before become fascinating because you know they are important to this person who is so special to you. You think of this person on every occasion and in everything you do. Simple things bring them to mind like a pale blue sky, gentle wind or even a storm cloud on the horizon. You open your heart knowing that there’s a chance it may be broken one day and in opening your heart, you experience a love and joy that you never dreamed possible. You find that being vulnerable is the only way to allow your heart to feel true pleasure that’s so real it scares you. You find strength in knowing you have a true friend and possibly a soul mate who will remain loyal to the end. Life seems completely different, exciting and worthwhile. Your only hope and security is in knowing that they are a part of your life.\", author = \"Bob Marley\", category = \"love\")\n",
       " CSV.Row: (quote = \"It is better to be hated for what you are than to be loved for what you are not.\", author = \"André Gide, Autumn Leaves\", category = \"life, love\")\n",
       " CSV.Row: (quote = \"As he read, I fell in love the way you fall asleep: slowly, and then all at once.\", author = \"John Green, The Fault in Our Stars\", category = \"love\")\n",
       " CSV.Row: (quote = \"The opposite of love is not hate, it's indifference. The opposite of art is not ugliness, it's indifference. The opposite of faith is not heresy, it's indifference. And the opposite of life is not death, it's indifference.\", author = \"Elie Wiesel\", category = \"activism, apathy, hate, indifference, inspirational, love, opposite, philosophy\")\n",
       " CSV.Row: (quote = \"It is not a lack of love, but a lack of friendship that makes unhappy marriages.\", author = \"Friedrich Nietzsche\", category = \"friendship, lack-of-friendship, lack-of-love, love, marriage, unhappy-marriage\")\n",
       " CSV.Row: (quote = \"I love you without knowing how, or when, or from where. I love you simply, without problems or pride: I love you in this way because I do not know any other way of loving but this, in which there is no I or you, so intimate that your hand upon my chest is my hand, so intimate that when I fall asleep your eyes close.\", author = \"Pablo Neruda, 100 Love Sonnets\", category = \"love, poetry\")\n",
       " CSV.Row: (quote = \"Love all, trust a few, do wrong to none.\", author = \"William Shakespeare, All's Well That Ends Well\", category = \"do-wrong, love, trust, wrong\")\n",
       " ⋮\n",
       " CSV.Row: (quote = \"Our awesome responsibility to ourselves, to our children, and to the future is to create ourselves in the image of goodness, because the future depends on the nobility of our imaginings.\", author = \"Barbara Grizzuti Harrison\", category = \"Children, Responsibility \")\n",
       " CSV.Row: (quote = \"A quality is something capable of being completely embodied. A law never can be embodied in its character as a law except by determining a habit. A quality is how something may or might have been. A law is how an endless future must continue to be.\", author = \"Charles Sanders Peirce\", category = \"Character, Law, Quality \")\n",
       " CSV.Row: (quote = \"It's like real life: We don't get a preview of what's coming up, thank God, and we don't build our own character from what we're going to be informed with in the future.\", author = \"Frances Conroy\", category = \"Life, Character, God \")\n",
       " CSV.Row: (quote = \"We all have a common goal, and we know it's all for our future good.\", author = \"Marta Kristen\", category = \"Good, Goal, Know \")\n",
       " CSV.Row: (quote = \"To a father, when a child dies, the future dies; to a child when a parent dies, the past dies.\", author = \"Red Auerbach\", category = \"Father, Past, Child \")\n",
       " CSV.Row: (quote = \"The future isn't just a place you'll go. It's a place you will invent.\", author = \"Nancy Duarte\", category = \"You, Place, Will \")\n",
       " CSV.Row: (quote = \"The Christian of the future will be a mystic or he will not exist at all.\", author = \"Karl Rahner\", category = \"Christian, Will, Exist \")\n",
       " CSV.Row: (quote = \"I do believe the most important thing I can do now is to help young people understand the past and prepare for the future.\", author = \"John C. Stennis\", category = \"Past, Believe, Help \")\n",
       " CSV.Row: (quote = \"I'd say I'm a bit antimadridista although I do not know where my future will be, but it's a team that I never liked. I get the impression that it is an arrogant club, about how the players are. Without humility, you cannot get anywhere.\", author = \"Isco\", category = \"Team, Humility, Know \")\n",
       " CSV.Row: (quote = \"The future is now.\", author = \"Nam June Paik\", category = \"Now \")\n",
       " CSV.Row: (quote = \"In all my life and in the future, I will always be a faithful and loyal servant to all of my compatriots.\", author = \"Norodom Sihamoni\", category = \"Life, My Life, Servant \")\n",
       " CSV.Row: (quote = \"The future is as bright as the promises of God.\", author = \"William Carey\", category = \"God, Promises, Bright \")"
      ]
     },
     "execution_count": 2,
     "metadata": {},
     "output_type": "execute_result"
    }
   ],
   "source": [
    "#If the file isn't found, you will have to download it yourself. Details in the README in the resources file\n",
    "quotes_csv = CSV.File(\"resources/quotes.csv\")"
   ]
  },
  {
   "cell_type": "code",
   "execution_count": 3,
   "metadata": {},
   "outputs": [],
   "source": [
    "key_types = Union{Symbol, AbstractString}\n",
    "\n",
    "next_word = Dict{key_types, Dict{key_types, Int}}()\n",
    "\n",
    "function add_word!(d, w, nw)\n",
    "    if w in keys(d) \n",
    "        if nw in keys(d[w])\n",
    "            d[w][nw] += 1\n",
    "        else\n",
    "            d[w][nw]=1\n",
    "        end\n",
    "    else\n",
    "        d[w] = Dict(nw=>1)\n",
    "    end\n",
    "end\n",
    "\n",
    "for r in quotes_csv\n",
    "    ismissing(r.quote) && continue\n",
    "    txt = split(r.quote)\n",
    "    for i = 0:length(txt)\n",
    "        if i==0\n",
    "            word = first(txt)\n",
    "            add_word!(next_word, :start, word)\n",
    "        elseif i==length(txt)\n",
    "            word = last(txt)\n",
    "            add_word!(next_word, word, :stop)\n",
    "        else\n",
    "            word = txt[i]\n",
    "            add_word!(next_word, word, txt[i+1])\n",
    "        end\n",
    "    end\n",
    "end"
   ]
  },
  {
   "cell_type": "code",
   "execution_count": 4,
   "metadata": {},
   "outputs": [
    {
     "data": {
      "text/plain": [
       "Dict{Union{AbstractString, Symbol},Int64} with 28879 entries:\n",
       "  \"Further,\"       => 6\n",
       "  \"Embrace,\"       => 1\n",
       "  \"Ruri:\"          => 1\n",
       "  \"P33-\"           => 2\n",
       "  \"Black(people)\"  => 1\n",
       "  \"ilet\"           => 1\n",
       "  \"Surprises,\"     => 1\n",
       "  \"Silken\"         => 1\n",
       "  \"Weekends\"       => 5\n",
       "  \"NAFTA\"          => 1\n",
       "  \"Roads\"          => 6\n",
       "  \"TAKE\"           => 2\n",
       "  \"STAY\"           => 1\n",
       "  \"Secure\"         => 4\n",
       "  \"...glass\"       => 1\n",
       "  \"Foresight\"      => 1\n",
       "  \"Impersonating\"  => 1\n",
       "  \"Horrle\"         => 1\n",
       "  \"Kavaata\"        => 1\n",
       "  \"Martyrdom:\"     => 1\n",
       "  \"Dissimulation,\" => 1\n",
       "  \"Audacious\"      => 1\n",
       "  \"Erik,\"          => 1\n",
       "  \"Elisha,'\"       => 1\n",
       "  \"Baby,\"          => 17\n",
       "  ⋮                => ⋮"
      ]
     },
     "execution_count": 4,
     "metadata": {},
     "output_type": "execute_result"
    }
   ],
   "source": [
    "next_word[:start]"
   ]
  },
  {
   "cell_type": "code",
   "execution_count": 5,
   "metadata": {},
   "outputs": [
    {
     "data": {
      "text/plain": [
       "create_quote (generic function with 1 method)"
      ]
     },
     "execution_count": 5,
     "metadata": {},
     "output_type": "execute_result"
    }
   ],
   "source": [
    "import StatsBase.sample\n",
    "\n",
    "function sample(wd::Dict{key_types, Dict{key_types, Int}}, w)\n",
    "    fw = FrequencyWeights(collect(x for x in values(wd[w])))\n",
    "    nws = collect(keys(wd[w]))\n",
    "    sample(nws, fw)\n",
    "end\n",
    "\n",
    "function create_quote(nw)\n",
    "    nq = []\n",
    "    push!(nq, sample(nw, :start))\n",
    "    while last(nq) != :stop\n",
    "        push!(nq, sample(nw, last(nq)))\n",
    "    end\n",
    "    join(nq[1:end-1], \" \")\n",
    "end"
   ]
  },
  {
   "cell_type": "code",
   "execution_count": 6,
   "metadata": {},
   "outputs": [
    {
     "name": "stdout",
     "output_type": "stream",
     "text": [
      "1. Someone of vocabularies, and forget it was work of time ago.\n",
      "2. He laughed up early there is hard he cannot be to live the kind that they were beyond the civilized history. It's just our life has done Theology aside, or the mob, between us what's left. “Um.” I was in life here, you want to impress her, she’d received one, because you create, you want such an irrelevance of your tutu-wearing, ballet-dancing, strut-walking pal se miró las cuales no one is out the circumstances a separate lives within ourselves and homeless and interesting.\n",
      "3. Patrice had a farm, though their violence for our fears swirling clouds across it would pass truths that you’re doing this fire it is all that time... But in the Outer circumstances blindfold me make one.\n",
      "4. The truth is also be silent. For us to save the end, but a tradition.\"She laughed. “Berretta doesn’t mean that we continue to be gathered together at him, his or she passed at a foundation of the logical one', the ring to his demand fidelity after another, in surprise that much more talent is to it. Enlightenment is a nod from whence health which is not a pure and the empowerment of his true religion. He was definitely lost all part of the Organization in life and wild, it's not by Sinuhe, the clouds away.\n",
      "5. Positive always.\n",
      "6. Leadership determines your chemical plantwhere smokestacks will never be a break down in you.\n",
      "7. With actors and love friends in the shows that mark - but not poor. This means a person next try to do it is at school.\n",
      "8. You must commemorate.\n",
      "9. Results are on gimmicks are filled with the events. He preferred memoirs far away now.What's so many nations more boring is as many say it was possible to death.However, in animal or forgiveness for war and tooth for battle. When you educate us at Cornell, due to do just how hard thing to regret it, it is the beauty is the sadness and I didn't they?\n",
      "10. But if you're trying to mention critics) do both.\n"
     ]
    }
   ],
   "source": [
    "for x in 1:10\n",
    "    println(string(x) * \". \" * create_quote(next_word))\n",
    "end"
   ]
  },
  {
   "cell_type": "code",
   "execution_count": 7,
   "metadata": {},
   "outputs": [],
   "source": [
    "word_after_next = Dict{key_types, Dict{key_types, Int}}()\n",
    "\n",
    "for r in quotes_csv\n",
    "    ismissing(r.quote) && continue\n",
    "    txt = split(r.quote)\n",
    "    length(txt)<=1 && continue\n",
    "    for i = 0:length(txt)-1\n",
    "        if i==0\n",
    "            word = txt[2]\n",
    "            add_word!(word_after_next, :start, word)\n",
    "        elseif i==length(txt)-1\n",
    "            word = txt[end-1]\n",
    "            add_word!(word_after_next, word, :stop)\n",
    "        else\n",
    "            word = txt[i]\n",
    "            add_word!(word_after_next, word, txt[i+2])\n",
    "        end\n",
    "    end\n",
    "end"
   ]
  },
  {
   "cell_type": "code",
   "execution_count": 8,
   "metadata": {},
   "outputs": [
    {
     "data": {
      "text/plain": [
       "Dict{Union{AbstractString, Symbol},Int64} with 34819 entries:\n",
       "  \"confined\"        => 1\n",
       "  \"oblique\"         => 1\n",
       "  \"phone.\"          => 1\n",
       "  \"illusionist\"     => 1\n",
       "  \"Proves\"          => 1\n",
       "  \"libertad\"        => 1\n",
       "  \"\\\"spiritual\\\"\"   => 1\n",
       "  \"believe,'\"       => 1\n",
       "  \"Sundays,\"        => 2\n",
       "  \"dumber\"          => 1\n",
       "  \"PEOPLES\"         => 1\n",
       "  \"Secure\"          => 1\n",
       "  \"dying?\\\"\"        => 1\n",
       "  \"Duckett\"         => 1\n",
       "  \"Honestlyis\"      => 1\n",
       "  \"however―because\" => 1\n",
       "  \"Everdeen,\"       => 1\n",
       "  \"cuss\"            => 1\n",
       "  \"Victrola,\"       => 1\n",
       "  \"rises\"           => 14\n",
       "  \"outsideness,\"    => 1\n",
       "  \"Baby,\"           => 2\n",
       "  \"unwholesome\"     => 1\n",
       "  \"contentious,\"    => 1\n",
       "  \"um,\"             => 2\n",
       "  ⋮                 => ⋮"
      ]
     },
     "execution_count": 8,
     "metadata": {},
     "output_type": "execute_result"
    }
   ],
   "source": [
    "word_after_next[:start]"
   ]
  },
  {
   "cell_type": "code",
   "execution_count": 9,
   "metadata": {},
   "outputs": [
    {
     "data": {
      "text/plain": [
       "create_quote (generic function with 2 methods)"
      ]
     },
     "execution_count": 9,
     "metadata": {},
     "output_type": "execute_result"
    }
   ],
   "source": [
    "function sample(nw::Dict{key_types, Dict{key_types, Int}}, wan::Dict{key_types, Dict{key_types, Int}}, w, bw)    \n",
    "    common_keys = intersect(keys(nw[w]), keys(wan[bw]))\n",
    "    ck_array = collect(common_keys)\n",
    "    \n",
    "    nw_hist = map(x->nw[w][x], ck_array)\n",
    "    wan_hist = map(x->wan[bw][x], ck_array)\n",
    "    \n",
    "    wan_dist = sum(wan_hist)./wan_hist #choose the least likely transitions to create more interesting quotes\n",
    "    nw_dist = nw_hist/sum(nw_hist)\n",
    "\n",
    "    comb_dist = wan_dist .* nw_dist/sum(wan_dist .* nw_dist)\n",
    "    sample(ck_array, ProbabilityWeights(comb_dist))\n",
    "end\n",
    "\n",
    "function create_quote(nw, wan)\n",
    "    nq = []\n",
    "    push!(nq, sample(nw, :start))\n",
    "    push!(nq, sample(nw, wan, last(nq), :start))\n",
    "    while last(nq) != :stop\n",
    "        push!(nq, sample(nw, wan, last(nq), nq[end-1]))\n",
    "    end\n",
    "    join(nq[1:end-1], \" \")\n",
    "end"
   ]
  },
  {
   "cell_type": "code",
   "execution_count": 10,
   "metadata": {},
   "outputs": [
    {
     "data": {
      "text/plain": [
       "\"I can't. Gwen.\\\" His hands over when does most after both locked into these elements known love, even though we've created for granted shames and what outrage which he let yourself entirely free way without reproducing madly still have answered back.\""
      ]
     },
     "execution_count": 10,
     "metadata": {},
     "output_type": "execute_result"
    }
   ],
   "source": [
    "create_quote(next_word, word_after_next)"
   ]
  },
  {
   "cell_type": "code",
   "execution_count": 11,
   "metadata": {},
   "outputs": [],
   "source": [
    "inspirational_nw = Dict{key_types, Dict{key_types, Int}}()\n",
    "\n",
    "for r in quotes_csv\n",
    "    ismissing(r.quote) && continue\n",
    "    (ismissing(r.category) || !occursin(\"inspiration\", r.category)) && continue\n",
    "    txt = split(r.quote)\n",
    "    for i = 0:length(txt)\n",
    "        if i==0\n",
    "            word = first(txt)\n",
    "            add_word!(inspirational_nw, :start, word)\n",
    "        elseif i==length(txt)\n",
    "            word = last(txt)\n",
    "            add_word!(inspirational_nw, word, :stop)\n",
    "        else\n",
    "            word = txt[i]\n",
    "            add_word!(inspirational_nw, word, txt[i+1])\n",
    "        end\n",
    "    end\n",
    "end"
   ]
  },
  {
   "cell_type": "code",
   "execution_count": 12,
   "metadata": {},
   "outputs": [
    {
     "name": "stdout",
     "output_type": "stream",
     "text": [
      "1. The problem oriented. 4. Always remembering all with dedication to look to keep our Milky Way. There should be treated you escaped. But when it no other than a funny how successful leaders.\n",
      "2. You must be quiet homes—not elsewhere—I believe in. We must learn if you were encouraging me? Was it leads to deny the drive our minds are birthed a beautiful universe has to kill yourself? You are often excruciating…but the attraction is the blessings right instead of your thoughts of his tenacity of revelation. You can live our fault if they come out. Always show up in God's love you get into our defense is within the potential is our way we spent as progress is neither misery they bring you ache inside and what your second, and joy when he has an old soldier of distinction.\n",
      "3. With love, life is serious questions and war, but it's not seeking help? Our lives and those conditions. As citizen must study of all the garden, her intoxicating that often. If there may be conscious, and hate. There is simple. It isn't life has a book for us both. Moral obligations and family. I would never have. Change isn't enough to live again look at any habit that sometimes it knows all. She was accused of the benefits is the artist who you're better understanding, trust, even he stands at photos you are not possible of the glory will come from wood and learn how to fight change, fear keep hopping together to the power to many hurdles of God at the way surviving was as roses. And knowing that is or called on finding ways that only thing causing you understand the sun has come with the child is understanding. In most of humility? I have imagined.\n",
      "4. Love people. I’ve had set a sandwich, a determined spirit and for it gets tough,it takes people. O Lord, I love and pride.\n",
      "5. Don’t spend a little child.\n",
      "6. When you gain.\n",
      "7. It’s when you in prayer, inspiration, she would see the wrong with a man will not where driftwood belongs--forever searching for love everyone, not make me whenever you can give, the future of what makes the rightness winning. The time to get used to establish a wonderful things in itself as we think you to see it, but ultimately do; whether it until Christmas all help you fly out of us in an inspiring as a fervor of the way beyond its roots make personal excellence, the same spirit is nothing without inspiration is the friendship has been one thing, so bright; It changes relative transient bitterness with me smiling imagination, then value of what you are alive.\" After all my own terms of will wait for signs of the universe where I did not be hidden. It needs a widening horizon. We can be more room for the only way as smart enough money on gentleness, to show you must believe in the same in one's actions and I speak I chose the tragic roads.\n",
      "8. Not for your heart\n",
      "9. The result in an author; direct your dreams, desires could be down or 'covering' a neutral proving myself any other discipline or not be worth botherin’ with. It's what kind of God, shall triumph and from the best friend you’ve been broken and we must rise to terms of Jesus; but an old children... ignore the world you thought in real value and town upstate and allow your heart. Love is a wonderful wilderness. Get started!\n",
      "10. A negative simply because the only aim to not somewhere else can guide you already beneath your turn a gift, it's positive thoughts.\n"
     ]
    }
   ],
   "source": [
    "for x in 1:10\n",
    "    println(string(x) * \". \" * create_quote(inspirational_nw))\n",
    "end"
   ]
  },
  {
   "cell_type": "code",
   "execution_count": 13,
   "metadata": {},
   "outputs": [],
   "source": [
    "inspirational_wan = Dict{key_types, Dict{key_types, Int}}()\n",
    "\n",
    "for r in quotes_csv\n",
    "    ismissing(r.quote) && continue\n",
    "    (ismissing(r.category) || !occursin(\"inspiration\", r.category)) && continue\n",
    "    txt = split(r.quote)\n",
    "    length(txt)<=1 && continue\n",
    "    for i = 0:length(txt)-1\n",
    "        if i==0\n",
    "            word = txt[2]\n",
    "            add_word!(inspirational_wan, :start, word)\n",
    "        elseif i==length(txt)-1\n",
    "            word = txt[end-1]\n",
    "            add_word!(inspirational_wan, word, :stop)\n",
    "        else\n",
    "            word = txt[i]\n",
    "            add_word!(inspirational_wan, word, txt[i+2])\n",
    "        end\n",
    "    end\n",
    "end"
   ]
  },
  {
   "cell_type": "code",
   "execution_count": 14,
   "metadata": {},
   "outputs": [
    {
     "name": "stdout",
     "output_type": "stream",
     "text": [
      "1. Just listen with it. Something that's the beauty today. I do something, something for a positive thoughts are the moment becomes real. Your body to your values. On his own thoughts. It's a part ways to destroy you; that you looking straight back with them remember everything might become the tools forge a path leads to nowhere. And when it's really dumb for your part we really very people will find myself back from any good. One day, work of faith. Put the whole Regiment rising and our brain. Your heart that away again. It is GOOD people make sense because that stand up, Stand on the pattern finally materialize in all elements from the weak, bright and that brave So a living things, it was kind enough to give anyone who say 'yes' and there because of having power, my life backwards as the Life doesn´t change you need is, there is what miracle if we let alone on my book, \"Diggin' Elroy,\" because I could battle is the stars Somehow she knew them, feel or where reality that has any kind to feel joy, love, I was she has ever let myself strong at all people, focus on becoming more than expected, that's when our understanding why you for others? Why think he had gone away is not breath. She would be apart. My goal and then somehow less and be taken refuge to the three tiny nations to each time, I am inexorably as the lessons begin from our inner personality a good book was to simply don’t turn into your friends turn on our mental health issues and not exist. Even a great loss. What more joy was only people all through which can choose happiness will come upon his so high up as if he left behind me by death, for every little beautiful just past experiences behind all other people. We can actually possess as it because at its deepest thoughts, your life. My hope and open under the best melody.\n",
      "2. He knew if God takes pleasure I could ever give life into powerful beyond your imagination. All those choices about all man's own time for you, especially those that respect yourself, and to eat flesh, and the situation inspires you, and not getting value in places far beyond what we failed today?\n",
      "3. Always Remember time and set realistic or that while creating them in our joy you feel uncomfortable, then it's about someone comes from God. After your life face great a so many times when I can’t afford to be seen, were a lot faster with all claim when you break you.\n",
      "4. The \"inner circle of the type poems for the parts in yourself, laying no life face life.\n",
      "5. Everybody counts—the Happy ones we must deal with our next weapon to the reason romance was a work hard times - if you're free to our doorsteps and press release the rest do, for all night without any challenges the questions usually never more willing to the air ...for instance me the same problems. So maybe there is beautiful again. You will know. I will discover answers on and died where your attention has to take decision because of our Own yourself. Own YOUR power!\n",
      "6. Freedom leads to the air cycles and the sweat cleansing your soul. Within a treasure hidden in your destination. He is so many changes each other of your Word becomes a lot ot work. I'm a long our breath away. You are is an opportunity fit and when men say, but they act on. I can appreciate flowers of the root causes\n",
      "7. The possibility lives of your righteousness does not about discipline will I was hoping for. I have realized that, and most effective link. Reason cannot form is that words reflect on the mastership of one's field of a crowd surrounding your birth control your life dampen your dreams aren't any hurt. It's like my heart feel because it doesn’t exist.\n",
      "8. You dream. A dream business but the last cigarette. Taking trains to nowhere, walking hand to take God’s way to be warriors. Yara, you have gone dark that when tomorrow what he is... To need no good person, with what his great people. Like a perfect work, that we haven’t done. yetIF where you belong always.\n",
      "9. In traveling, a companion, love is worth reaching.\n",
      "10. Let today is really work out.\n"
     ]
    }
   ],
   "source": [
    "for x in 1:10\n",
    "    println(string(x) * \". \" * create_quote(inspirational_nw, inspirational_wan))\n",
    "end"
   ]
  },
  {
   "cell_type": "code",
   "execution_count": null,
   "metadata": {},
   "outputs": [],
   "source": []
  }
 ],
 "metadata": {
  "@webio": {
   "lastCommId": null,
   "lastKernelId": null
  },
  "kernelspec": {
   "display_name": "Julia 1.5.1",
   "language": "julia",
   "name": "julia-1.5"
  },
  "language_info": {
   "file_extension": ".jl",
   "mimetype": "application/julia",
   "name": "julia",
   "version": "1.5.1"
  }
 },
 "nbformat": 4,
 "nbformat_minor": 2
}
